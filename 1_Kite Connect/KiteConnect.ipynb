{
 "cells": [
  {
   "cell_type": "code",
   "execution_count": null,
   "id": "0d51b96d",
   "metadata": {},
   "outputs": [],
   "source": [
    "import logging\n",
    "from kiteconnect import KiteConnect\n",
    "\n",
    "import yfinance as yf\n",
    "import pandas as pd\n",
    "import datetime\n",
    "\n",
    "logging.basicConfig(levelf=logging.DEBUG)"
   ]
  },
  {
   "cell_type": "code",
   "execution_count": 52,
   "id": "552548fd",
   "metadata": {},
   "outputs": [
    {
     "name": "stderr",
     "output_type": "stream",
     "text": [
      "DEBUG:yfinance:Entering history()\n",
      "DEBUG:peewee:('SELECT \"t1\".\"key\", \"t1\".\"value\" FROM \"_kv\" AS \"t1\" WHERE (\"t1\".\"key\" = ?) LIMIT ? OFFSET ?', ['INFY.NS', 1, 0])\n",
      "DEBUG:yfinance: Entering _fetch_ticker_tz()\n",
      "DEBUG:yfinance:  Entering get()\n",
      "DEBUG:yfinance:   Entering _make_request()\n",
      "DEBUG:yfinance:url=https://query2.finance.yahoo.com/v8/finance/chart/INFY.NS\n",
      "DEBUG:yfinance:params=frozendict.frozendict({'range': '1d', 'interval': '1d'})\n",
      "DEBUG:yfinance:    Entering _get_cookie_and_crumb()\n",
      "DEBUG:yfinance:cookie_mode = 'basic'\n",
      "DEBUG:yfinance:     Entering _get_cookie_and_crumb_basic()\n",
      "DEBUG:yfinance:reusing cookie\n",
      "DEBUG:yfinance:reusing crumb\n",
      "DEBUG:yfinance:     Exiting _get_cookie_and_crumb_basic()\n",
      "DEBUG:yfinance:    Exiting _get_cookie_and_crumb()\n",
      "DEBUG:urllib3.connectionpool:Resetting dropped connection: query2.finance.yahoo.com\n",
      "DEBUG:urllib3.connectionpool:https://query2.finance.yahoo.com:443 \"GET /v8/finance/chart/INFY.NS?range=1d&interval=1d&crumb=DffQrhVhhyk HTTP/1.1\" 200 1158\n",
      "DEBUG:yfinance:response code=200\n",
      "DEBUG:yfinance:   Exiting _make_request()\n",
      "DEBUG:yfinance:  Exiting get()\n",
      "DEBUG:yfinance: Exiting _fetch_ticker_tz()\n",
      "DEBUG:peewee:('BEGIN', None)\n",
      "DEBUG:peewee:('INSERT INTO \"_kv\" (\"key\", \"value\") VALUES (?, ?)', ['INFY.NS', 'Asia/Kolkata'])\n",
      "DEBUG:yfinance: Entering history()\n",
      "DEBUG:yfinance:INFY.NS: Yahoo GET parameters: {'range': '3mo', 'interval': '1d', 'includePrePost': False, 'events': 'div,splits,capitalGains'}\n",
      "DEBUG:yfinance:  Entering get()\n",
      "DEBUG:yfinance:   Entering _make_request()\n",
      "DEBUG:yfinance:url=https://query2.finance.yahoo.com/v8/finance/chart/INFY.NS\n",
      "DEBUG:yfinance:params={'range': '3mo', 'interval': '1d', 'includePrePost': False, 'events': 'div,splits,capitalGains'}\n",
      "DEBUG:yfinance:    Entering _get_cookie_and_crumb()\n",
      "DEBUG:yfinance:cookie_mode = 'basic'\n",
      "DEBUG:yfinance:     Entering _get_cookie_and_crumb_basic()\n",
      "DEBUG:yfinance:reusing cookie\n",
      "DEBUG:yfinance:reusing crumb\n",
      "DEBUG:yfinance:     Exiting _get_cookie_and_crumb_basic()\n",
      "DEBUG:yfinance:    Exiting _get_cookie_and_crumb()\n",
      "DEBUG:urllib3.connectionpool:https://query2.finance.yahoo.com:443 \"GET /v8/finance/chart/INFY.NS?range=3mo&interval=1d&includePrePost=False&events=div%2Csplits%2CcapitalGains&crumb=DffQrhVhhyk HTTP/1.1\" 200 1974\n",
      "DEBUG:yfinance:response code=200\n",
      "DEBUG:yfinance:   Exiting _make_request()\n",
      "DEBUG:yfinance:  Exiting get()\n",
      "DEBUG:yfinance:INFY.NS: yfinance received OHLC data: 2025-01-17 03:45:00 -> 2025-04-17 03:45:00\n",
      "DEBUG:yfinance:INFY.NS: OHLC after cleaning: 2025-01-17 09:15:00+05:30 -> 2025-04-17 09:15:00+05:30\n",
      "DEBUG:yfinance:INFY.NS: OHLC after combining events: 2025-01-17 00:00:00+05:30 -> 2025-04-17 00:00:00+05:30\n",
      "DEBUG:yfinance:INFY.NS: yfinance returning OHLC: 2025-01-17 00:00:00+05:30 -> 2025-04-17 00:00:00+05:30\n",
      "DEBUG:yfinance: Exiting history()\n",
      "DEBUG:yfinance:Exiting history()\n"
     ]
    },
    {
     "name": "stdout",
     "output_type": "stream",
     "text": [
      "                                  Open         High          Low        Close  \\\n",
      "Date                                                                            \n",
      "2025-04-09 00:00:00+05:30  1405.050049  1409.449951  1381.900024  1403.699951   \n",
      "2025-04-11 00:00:00+05:30  1411.250000  1438.800049  1397.050049  1409.449951   \n",
      "2025-04-15 00:00:00+05:30  1445.599976  1447.699951  1409.000000  1426.000000   \n",
      "2025-04-16 00:00:00+05:30  1425.000000  1427.500000  1396.800049  1413.099976   \n",
      "2025-04-17 00:00:00+05:30  1398.000000  1429.800049  1378.300049  1419.500000   \n",
      "\n",
      "                             Volume  Dividends  Stock Splits  \n",
      "Date                                                          \n",
      "2025-04-09 00:00:00+05:30   8546854        0.0           0.0  \n",
      "2025-04-11 00:00:00+05:30  12567440        0.0           0.0  \n",
      "2025-04-15 00:00:00+05:30  10178530        0.0           0.0  \n",
      "2025-04-16 00:00:00+05:30  12022740        0.0           0.0  \n",
      "2025-04-17 00:00:00+05:30  14264227        0.0           0.0  \n"
     ]
    }
   ],
   "source": [
    "ticker = \"INFY.NS\"\n",
    "# Define the ticker object\n",
    "stock = yf.Ticker(ticker)\n",
    "\n",
    "# Fetch historical data\n",
    "data = stock.history(\n",
    "    period=\"3mo\",       # Options: \"1d\", \"5d\", \"1mo\", \"3mo\", \"6mo\", \"1y\", etc.\n",
    "    interval=\"1d\"       # Options: \"1m\", \"5m\", \"15m\", \"1h\", \"1d\", etc.\n",
    ")\n",
    "\n",
    "# Print or explore the data\n",
    "print(data.tail())"
   ]
  },
  {
   "cell_type": "code",
   "execution_count": null,
   "id": "32db33f1",
   "metadata": {},
   "outputs": [],
   "source": [
    "kite = KiteConnect(api_key=\"10q23e560j0o0ke5\")\n",
    "# sf92j1nlq96drx5kfftw387we5zvcwql\n",
    "# 92swFb34J00vzDcXrI6xPkXM9vBH6bIU"
   ]
  },
  {
   "cell_type": "code",
   "execution_count": 49,
   "id": "3a75c448",
   "metadata": {},
   "outputs": [
    {
     "data": {
      "text/plain": [
       "'https://kite.zerodha.com/connect/login?api_key=10q23e560j0o0ke5&v=3'"
      ]
     },
     "execution_count": 49,
     "metadata": {},
     "output_type": "execute_result"
    }
   ],
   "source": [
    "kite.login_url()"
   ]
  },
  {
   "cell_type": "code",
   "execution_count": null,
   "id": "a38aeee5",
   "metadata": {},
   "outputs": [],
   "source": [
    "data = kite.generate_session(\"qrQCIsHVvEvtwBl3EkqA4TjsphkPSszb\", api_secret=\"sf92j1nlq96drx5kfftw387we5zvcwql\")"
   ]
  },
  {
   "cell_type": "code",
   "execution_count": null,
   "id": "8b869fba",
   "metadata": {},
   "outputs": [],
   "source": [
    "kite.set_access_token(data[\"access_token\"])"
   ]
  },
  {
   "cell_type": "code",
   "execution_count": 51,
   "id": "f7228144",
   "metadata": {},
   "outputs": [
    {
     "name": "stderr",
     "output_type": "stream",
     "text": [
      "DEBUG:urllib3.connectionpool:https://api.kite.trade:443 \"GET /portfolio/holdings HTTP/1.1\" 200 None\n"
     ]
    }
   ],
   "source": [
    "holdings = kite.holdings()"
   ]
  },
  {
   "cell_type": "code",
   "execution_count": null,
   "id": "1cf572c9",
   "metadata": {},
   "outputs": [],
   "source": [
    "kite.instruments()"
   ]
  },
  {
   "cell_type": "code",
   "execution_count": null,
   "id": "598ba7eb",
   "metadata": {},
   "outputs": [],
   "source": [
    "# Fetch all instruments and filter by the desired ticker\n",
    "instruments = kite.instruments(\"NSE\")  # Replace \"NSE\" with the desired exchange\n",
    "ticker = \"INFY\"  # Replace with your desired ticker symbol\n",
    "\n",
    "# Find the instrument details for the ticker\n",
    "instrument_details = next((item for item in instruments if item[\"tradingsymbol\"] == ticker), None)\n",
    "\n",
    "if instrument_details:\n",
    "    print(f\"Instrument Token for {ticker}: {instrument_details['instrument_token']}\")\n",
    "else:\n",
    "    print(f\"{ticker} not found in the instruments list.\")"
   ]
  },
  {
   "cell_type": "code",
   "execution_count": null,
   "id": "fd545931",
   "metadata": {},
   "outputs": [],
   "source": [
    "kite.instruments(\"NSE\")  # Replace \"NSE\" with the desired exchange"
   ]
  },
  {
   "cell_type": "code",
   "execution_count": 47,
   "id": "0dd7860b",
   "metadata": {},
   "outputs": [
    {
     "name": "stderr",
     "output_type": "stream",
     "text": [
      "DEBUG:urllib3.connectionpool:https://api.kite.trade:443 \"POST /orders/amo HTTP/1.1\" 200 None\n"
     ]
    },
    {
     "data": {
      "text/plain": [
       "'1913970142052638720'"
      ]
     },
     "execution_count": 47,
     "metadata": {},
     "output_type": "execute_result"
    }
   ],
   "source": [
    "kite.place_order(\n",
    "    variety=kite.VARIETY_AMO,  # Order variety, e.g., \"regular\", \"bo\", \"co\", etc.\n",
    "    exchange=kite.EXCHANGE_NSE,  # Exchange, e.g., \"NSE\" for National Stock Exchange\n",
    "    tradingsymbol=\"INFY\",  # Trading symbol for Infosys\n",
    "    transaction_type=kite.TRANSACTION_TYPE_BUY,  # Transaction type, e.g., \"BUY\" or \"SELL\"\n",
    "    quantity=1,  # Quantity of shares to buy/sell\n",
    "    product=kite.PRODUCT_CNC,  # Product type, e.g., \"CNC\" for delivery, \"MIS\" for intraday\n",
    "    order_type=kite.ORDER_TYPE_MARKET,  # Order type, e.g., \"LIMIT\", \"MARKET\", etc.\n",
    "    validity=kite.VALIDITY_DAY,  # Order validity, e.g., \"DAY\", \"IOC\", etc.\n",
    "    tag=\"Algo\"  # Optional: Tag for the order\n",
    ")"
   ]
  }
 ],
 "metadata": {
  "kernelspec": {
   "display_name": ".venv",
   "language": "python",
   "name": "python3"
  },
  "language_info": {
   "codemirror_mode": {
    "name": "ipython",
    "version": 3
   },
   "file_extension": ".py",
   "mimetype": "text/x-python",
   "name": "python",
   "nbconvert_exporter": "python",
   "pygments_lexer": "ipython3",
   "version": "3.13.3"
  }
 },
 "nbformat": 4,
 "nbformat_minor": 5
}
