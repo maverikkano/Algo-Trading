{
 "cells": [
  {
   "cell_type": "markdown",
   "id": "609617b9",
   "metadata": {},
   "source": [
    "# Mini Project: Learn Backtrader  Through 1 Strategy\n",
    "### 🧠 Backtest a simple RSI/EMA strategy over AAPL for 1 year and log the portfolio change.\n",
    "\n",
    "🎯 Goal: Understand how to backtest a simple strategy (like RSI + EMA)\n",
    "\n",
    "| **Concept**             | **How to Approach**                                        |\n",
    "| ----------------------- | ---------------------------------------------------------- |\n",
    "| ✅ Cerebro engine        | Learn how to instantiate, add data and strategy            |\n",
    "| ✅ Strategy class        | Understand __init__() and next()                           |\n",
    "| ✅ Indicators            | Use built-in ones first (RSI, EMA, SMA)                    |\n",
    "| ✅ Buy/sell logic        | Focus on basic logic: “if RSI < 30 and close > EMA: buy()” |\n",
    "| ✅ Plot and broker value | Track before/after cash and plot trades                    |"
   ]
  },
  {
   "cell_type": "code",
   "execution_count": 1,
   "id": "15f5835f",
   "metadata": {},
   "outputs": [],
   "source": [
    "import backtrader as bt\n",
    "import yfinance as yf\n",
    "import pandas as pd\n",
    "import matplotlib.pyplot as plt\n",
    "\n",
    "%matplotlib inline"
   ]
  },
  {
   "cell_type": "markdown",
   "id": "cd971ae6",
   "metadata": {},
   "source": [
    "**Create Strategy Class**"
   ]
  },
  {
   "cell_type": "code",
   "execution_count": null,
   "id": "5548264e",
   "metadata": {},
   "outputs": [],
   "source": [
    "class RsiEmaStrategy(bt.Strategy):\n",
    "    params = (\n",
    "        (\"rsi_period\", 14),\n",
    "        (\"ema_period\", 7),\n",
    "    )\n",
    "\n",
    "    def __init__(self):\n",
    "        self.rsi = bt.indicators.RSI(self.data.close, period=self.params.rsi_period)\n",
    "        self.ema = bt.indicators.EMA(self.data.close, period=self.params.ema_period)\n",
    "\n",
    "        # Trade tracking\n",
    "        self.order = None\n",
    "        self.buy_price = None\n",
    "        self.buy_date = None\n",
    "        self.params.stake = 10\n",
    "\n",
    "        self.trades = []  # Store completed trades here!\n",
    "\n",
    "\n",
    "    def next(self):\n",
    "        # Skip bars until indicators are ready\n",
    "        if len(self) < self.params.rsi_period + 7:   # 14 for RSI + a few more for safety\n",
    "            return\n",
    "\n",
    "        # print(f\"Date: {self.data.datetime.date(0)}, Close: {self.data.close[0]}, EMA: {self.ema[0]}, RSI: {self.rsi[0]}\")\n",
    "        if self.position.size == 0:\n",
    "            if self.rsi[0] < 45 :\n",
    "                self.buy_price = self.data.close[0]\n",
    "                self.buy_date = self.data.datetime.date(0)\n",
    "                self.order = self.buy()\n",
    "        else:\n",
    "            if self.rsi[0] > 60 and self.data.close[0] < self.ema[0]:\n",
    "                sell_price = self.data.close[0]\n",
    "                sell_date = self.data.datetime.date(0)\n",
    "                self.order = self.sell()\n",
    "\n",
    "                # Record trade info\n",
    "                profit = sell_price - self.buy_price\n",
    "                self.trades.append({\n",
    "                    'Buy Date': self.buy_date,\n",
    "                    'Buy Price': round(self.buy_price, 2),\n",
    "                    'Sell Date': sell_date,\n",
    "                    'Sell Price': round(sell_price, 2),\n",
    "                    'Profit': round(profit, 2) * self.params.stake,\n",
    "                    'Status': 'Closed'\n",
    "                })\n",
    "\n",
    "    def stop(self):\n",
    "        # At the end, if any position is still open, just report it\n",
    "        if self.position.size > 0:\n",
    "            current_price = self.data.close[0]\n",
    "            current_date = self.data.datetime.date(0)\n",
    "\n",
    "            unrealized_profit = (current_price - self.buy_price) * self.params.stake\n",
    "\n",
    "            self.trades.append({\n",
    "                'Buy Date': self.buy_date,\n",
    "                'Buy Price': round(self.buy_price, 2),\n",
    "                'Sell Date': current_date,\n",
    "                'Sell Price': round(current_price, 2),\n",
    "                'Profit ($)': round(unrealized_profit, 2),\n",
    "                'Status': 'Open'\n",
    "            })"
   ]
  },
  {
   "cell_type": "code",
   "execution_count": 3,
   "id": "3b812538",
   "metadata": {},
   "outputs": [],
   "source": [
    "class PandasDataAAPL(bt.feeds.PandasData):\n",
    "    params = (\n",
    "        ('datetime', None),           # Let Backtrader auto-detect index as datetime\n",
    "        ('open', 'Open_AAPL'),         # Tell it where \"open\" is\n",
    "        ('high', 'High_AAPL'),         # where \"high\" is\n",
    "        ('low', 'Low_AAPL'),           # where \"low\" is\n",
    "        ('close', 'Close_AAPL'),       # where \"close\" is\n",
    "        ('volume', 'Volume_AAPL'),     # where \"volume\" is\n",
    "        ('openinterest', -1),          # not used\n",
    "    )\n"
   ]
  },
  {
   "cell_type": "markdown",
   "id": "7008ce9b",
   "metadata": {},
   "source": [
    "**Load AAPL Data (1 Year)**"
   ]
  },
  {
   "cell_type": "code",
   "execution_count": 4,
   "id": "11b1931d",
   "metadata": {},
   "outputs": [
    {
     "name": "stdout",
     "output_type": "stream",
     "text": [
      "YF.download() has changed argument auto_adjust default to True\n"
     ]
    },
    {
     "name": "stderr",
     "output_type": "stream",
     "text": [
      "[*********************100%***********************]  1 of 1 completed"
     ]
    },
    {
     "name": "stdout",
     "output_type": "stream",
     "text": [
      "Index(['Close_AAPL', 'High_AAPL', 'Low_AAPL', 'Open_AAPL', 'Volume_AAPL'], dtype='object')\n"
     ]
    },
    {
     "name": "stderr",
     "output_type": "stream",
     "text": [
      "\n"
     ]
    }
   ],
   "source": [
    "# Download AAPL historical data from Yahoo Finance\n",
    "data = yf.download('AAPL', start='2020-01-01', end='2025-04-26')\n",
    "\n",
    "data.columns = ['_'.join(col) for col in data.columns]\n",
    "\n",
    "print(data.columns)\n",
    "\n",
    "# Prepare it for Backtrader\n",
    "# data_bt = bt.feeds.PandasData(dataname=data)\n",
    "data_bt = PandasDataAAPL(dataname=data)"
   ]
  },
  {
   "cell_type": "markdown",
   "id": "2d395255",
   "metadata": {},
   "source": [
    "**Set Up Cerebro Engine**"
   ]
  },
  {
   "cell_type": "code",
   "execution_count": 5,
   "id": "393bcb30",
   "metadata": {},
   "outputs": [],
   "source": [
    "# Create Cerebro engine\n",
    "cerebro = bt.Cerebro()\n",
    "\n",
    "# Add strategy\n",
    "cerebro.addstrategy(RsiEmaStrategy)\n",
    "\n",
    "# Add data\n",
    "cerebro.adddata(data_bt)\n",
    "\n",
    "# Set starting cash\n",
    "cerebro.broker.set_cash(10000)\n",
    "\n",
    "# Set trade size to 10 shares\n",
    "cerebro.addsizer(bt.sizers.FixedSize, stake=10)"
   ]
  },
  {
   "cell_type": "markdown",
   "id": "a3155c46",
   "metadata": {},
   "source": [
    "**Run Backtest and Print Results**"
   ]
  },
  {
   "cell_type": "code",
   "execution_count": 6,
   "id": "d4db30fb",
   "metadata": {},
   "outputs": [
    {
     "name": "stdout",
     "output_type": "stream",
     "text": [
      "Starting Portfolio Value: 10000.00\n",
      "Final Portfolio Value: 10914.72\n"
     ]
    }
   ],
   "source": [
    "# Starting Portfolio Value\n",
    "portfolio_value_initial = cerebro.broker.getvalue()\n",
    "print('Starting Portfolio Value: %.2f' % portfolio_value_initial)\n",
    "\n",
    "# Run\n",
    "results = cerebro.run()\n",
    "\n",
    "# Final Portfolio Value\n",
    "portfolio_value_final = cerebro.broker.getvalue()\n",
    "print('Final Portfolio Value: %.2f' % portfolio_value_final)"
   ]
  },
  {
   "cell_type": "code",
   "execution_count": 7,
   "id": "957ff7d5",
   "metadata": {},
   "outputs": [
    {
     "name": "stdout",
     "output_type": "stream",
     "text": [
      "Total Trades: 9\n",
      "Total Profit: 1199.6000000000001\n",
      "Average Profit per Trade: 149.95000000000002\n"
     ]
    },
    {
     "data": {
      "application/vnd.microsoft.datawrangler.viewer.v0+json": {
       "columns": [
        {
         "name": "index",
         "rawType": "int64",
         "type": "integer"
        },
        {
         "name": "Buy Date",
         "rawType": "object",
         "type": "unknown"
        },
        {
         "name": "Buy Price",
         "rawType": "float64",
         "type": "float"
        },
        {
         "name": "Sell Date",
         "rawType": "object",
         "type": "unknown"
        },
        {
         "name": "Sell Price",
         "rawType": "float64",
         "type": "float"
        },
        {
         "name": "Profit",
         "rawType": "float64",
         "type": "float"
        },
        {
         "name": "Status",
         "rawType": "object",
         "type": "string"
        },
        {
         "name": "Profit ($)",
         "rawType": "float64",
         "type": "float"
        }
       ],
       "conversionMethod": "pd.DataFrame",
       "ref": "34e11952-e0cb-4ee7-baf3-a6a36f5d7386",
       "rows": [
        [
         "0",
         "2020-02-27",
         "66.38",
         "2020-06-11",
         "81.74",
         "153.6",
         "Closed",
         null
        ],
        [
         "1",
         "2020-09-08",
         "110.01",
         "2021-07-27",
         "143.82",
         "338.1",
         "Closed",
         null
        ],
        [
         "2",
         "2021-09-17",
         "143.34",
         "2021-12-03",
         "159.06",
         "157.20000000000002",
         "Closed",
         null
        ],
        [
         "3",
         "2022-01-19",
         "163.37",
         "2022-08-19",
         "169.27",
         "59.0",
         "Closed",
         null
        ],
        [
         "4",
         "2022-08-30",
         "156.82",
         "2023-02-17",
         "151.03",
         "-58.0",
         "Closed",
         null
        ],
        [
         "5",
         "2023-08-04",
         "180.42",
         "2023-11-29",
         "188.24",
         "78.2",
         "Closed",
         null
        ],
        [
         "6",
         "2024-01-02",
         "184.53",
         "2024-06-10",
         "192.47",
         "79.4",
         "Closed",
         null
        ],
        [
         "7",
         "2024-08-05",
         "208.57",
         "2024-12-18",
         "247.78",
         "392.1",
         "Closed",
         null
        ],
        [
         "8",
         "2025-01-07",
         "241.94",
         "2025-04-25",
         "209.28",
         null,
         "Open",
         "-326.64"
        ]
       ],
       "shape": {
        "columns": 7,
        "rows": 9
       }
      },
      "text/html": [
       "<div>\n",
       "<style scoped>\n",
       "    .dataframe tbody tr th:only-of-type {\n",
       "        vertical-align: middle;\n",
       "    }\n",
       "\n",
       "    .dataframe tbody tr th {\n",
       "        vertical-align: top;\n",
       "    }\n",
       "\n",
       "    .dataframe thead th {\n",
       "        text-align: right;\n",
       "    }\n",
       "</style>\n",
       "<table border=\"1\" class=\"dataframe\">\n",
       "  <thead>\n",
       "    <tr style=\"text-align: right;\">\n",
       "      <th></th>\n",
       "      <th>Buy Date</th>\n",
       "      <th>Buy Price</th>\n",
       "      <th>Sell Date</th>\n",
       "      <th>Sell Price</th>\n",
       "      <th>Profit</th>\n",
       "      <th>Status</th>\n",
       "      <th>Profit ($)</th>\n",
       "    </tr>\n",
       "  </thead>\n",
       "  <tbody>\n",
       "    <tr>\n",
       "      <th>0</th>\n",
       "      <td>2020-02-27</td>\n",
       "      <td>66.38</td>\n",
       "      <td>2020-06-11</td>\n",
       "      <td>81.74</td>\n",
       "      <td>153.6</td>\n",
       "      <td>Closed</td>\n",
       "      <td>NaN</td>\n",
       "    </tr>\n",
       "    <tr>\n",
       "      <th>1</th>\n",
       "      <td>2020-09-08</td>\n",
       "      <td>110.01</td>\n",
       "      <td>2021-07-27</td>\n",
       "      <td>143.82</td>\n",
       "      <td>338.1</td>\n",
       "      <td>Closed</td>\n",
       "      <td>NaN</td>\n",
       "    </tr>\n",
       "    <tr>\n",
       "      <th>2</th>\n",
       "      <td>2021-09-17</td>\n",
       "      <td>143.34</td>\n",
       "      <td>2021-12-03</td>\n",
       "      <td>159.06</td>\n",
       "      <td>157.2</td>\n",
       "      <td>Closed</td>\n",
       "      <td>NaN</td>\n",
       "    </tr>\n",
       "    <tr>\n",
       "      <th>3</th>\n",
       "      <td>2022-01-19</td>\n",
       "      <td>163.37</td>\n",
       "      <td>2022-08-19</td>\n",
       "      <td>169.27</td>\n",
       "      <td>59.0</td>\n",
       "      <td>Closed</td>\n",
       "      <td>NaN</td>\n",
       "    </tr>\n",
       "    <tr>\n",
       "      <th>4</th>\n",
       "      <td>2022-08-30</td>\n",
       "      <td>156.82</td>\n",
       "      <td>2023-02-17</td>\n",
       "      <td>151.03</td>\n",
       "      <td>-58.0</td>\n",
       "      <td>Closed</td>\n",
       "      <td>NaN</td>\n",
       "    </tr>\n",
       "    <tr>\n",
       "      <th>5</th>\n",
       "      <td>2023-08-04</td>\n",
       "      <td>180.42</td>\n",
       "      <td>2023-11-29</td>\n",
       "      <td>188.24</td>\n",
       "      <td>78.2</td>\n",
       "      <td>Closed</td>\n",
       "      <td>NaN</td>\n",
       "    </tr>\n",
       "    <tr>\n",
       "      <th>6</th>\n",
       "      <td>2024-01-02</td>\n",
       "      <td>184.53</td>\n",
       "      <td>2024-06-10</td>\n",
       "      <td>192.47</td>\n",
       "      <td>79.4</td>\n",
       "      <td>Closed</td>\n",
       "      <td>NaN</td>\n",
       "    </tr>\n",
       "    <tr>\n",
       "      <th>7</th>\n",
       "      <td>2024-08-05</td>\n",
       "      <td>208.57</td>\n",
       "      <td>2024-12-18</td>\n",
       "      <td>247.78</td>\n",
       "      <td>392.1</td>\n",
       "      <td>Closed</td>\n",
       "      <td>NaN</td>\n",
       "    </tr>\n",
       "    <tr>\n",
       "      <th>8</th>\n",
       "      <td>2025-01-07</td>\n",
       "      <td>241.94</td>\n",
       "      <td>2025-04-25</td>\n",
       "      <td>209.28</td>\n",
       "      <td>NaN</td>\n",
       "      <td>Open</td>\n",
       "      <td>-326.64</td>\n",
       "    </tr>\n",
       "  </tbody>\n",
       "</table>\n",
       "</div>"
      ],
      "text/plain": [
       "     Buy Date  Buy Price   Sell Date  Sell Price  Profit  Status  Profit ($)\n",
       "0  2020-02-27      66.38  2020-06-11       81.74   153.6  Closed         NaN\n",
       "1  2020-09-08     110.01  2021-07-27      143.82   338.1  Closed         NaN\n",
       "2  2021-09-17     143.34  2021-12-03      159.06   157.2  Closed         NaN\n",
       "3  2022-01-19     163.37  2022-08-19      169.27    59.0  Closed         NaN\n",
       "4  2022-08-30     156.82  2023-02-17      151.03   -58.0  Closed         NaN\n",
       "5  2023-08-04     180.42  2023-11-29      188.24    78.2  Closed         NaN\n",
       "6  2024-01-02     184.53  2024-06-10      192.47    79.4  Closed         NaN\n",
       "7  2024-08-05     208.57  2024-12-18      247.78   392.1  Closed         NaN\n",
       "8  2025-01-07     241.94  2025-04-25      209.28     NaN    Open     -326.64"
      ]
     },
     "execution_count": 7,
     "metadata": {},
     "output_type": "execute_result"
    }
   ],
   "source": [
    "# Access trades\n",
    "strat = results[0]  # Get the strategy instance\n",
    "trade_log = pd.DataFrame(strat.trades)\n",
    "\n",
    "print(\"Total Trades:\", len(trade_log))\n",
    "print(\"Total Profit:\", trade_log['Profit'].sum())\n",
    "print(\"Average Profit per Trade:\", trade_log['Profit'].mean())\n",
    "\n",
    "# Show the trade report\n",
    "trade_log"
   ]
  },
  {
   "cell_type": "code",
   "execution_count": 10,
   "id": "08ccfc01",
   "metadata": {},
   "outputs": [
    {
     "name": "stdout",
     "output_type": "stream",
     "text": [
      "Profit:  9.147151164561128 %\n"
     ]
    },
    {
     "data": {
      "text/plain": [
       "<Axes: title={'center': 'Cumulative Profit Over Time'}, xlabel='Buy Date'>"
      ]
     },
     "execution_count": 10,
     "metadata": {},
     "output_type": "execute_result"
    },
    {
     "data": {
      "image/png": "[encoded data removed]",
      "text/plain": [
       "<Figure size 1200x600 with 1 Axes>"
      ]
     },
     "metadata": {},
     "output_type": "display_data"
    }
   ],
   "source": [
    "profit_percent = (portfolio_value_final - portfolio_value_initial)/portfolio_value_initial * 100;\n",
    "print(\"Profit: \",profit_percent,\"%\")\n",
    "\n",
    "# trade_log['Profit'].cumsum().plot(title='Cumulative Profit Over Time')\n",
    "\n",
    "# Set Buy Date as the index\n",
    "trade_log.index = pd.to_datetime(trade_log['Buy Date'])\n",
    "\n",
    "# Now plot\n",
    "trade_log['Profit'].cumsum().plot(figsize=(12,6), title='Cumulative Profit Over Time')"
   ]
  },
  {
   "cell_type": "code",
   "execution_count": null,
   "id": "5430d00a",
   "metadata": {},
   "outputs": [],
   "source": []
  }
 ],
 "metadata": {
  "kernelspec": {
   "display_name": ".venv",
   "language": "python",
   "name": "python3"
  },
  "language_info": {
   "codemirror_mode": {
    "name": "ipython",
    "version": 3
   },
   "file_extension": ".py",
   "mimetype": "text/x-python",
   "name": "python",
   "nbconvert_exporter": "python",
   "pygments_lexer": "ipython3",
   "version": "3.13.3"
  }
 },
 "nbformat": 4,
 "nbformat_minor": 5
}
